{
 "cells": [
  {
   "cell_type": "markdown",
   "id": "bfa5aa97-c10e-46d7-832f-9f44c311a1d4",
   "metadata": {
    "execution": {
     "iopub.execute_input": "2023-08-27T20:43:03.557050Z",
     "iopub.status.busy": "2023-08-27T20:43:03.549426Z",
     "iopub.status.idle": "2023-08-27T20:43:03.612417Z",
     "shell.execute_reply": "2023-08-27T20:43:03.606436Z",
     "shell.execute_reply.started": "2023-08-27T20:43:03.556679Z"
    }
   },
   "source": [
    "# Atividade Prática Supervisionada 2 - Grupo H"
   ]
  },
  {
   "cell_type": "markdown",
   "id": "d2422be5-6c7a-426b-b3e2-d29c41a4a115",
   "metadata": {},
   "source": [
    "## Importação das bibliotecas"
   ]
  },
  {
   "cell_type": "code",
   "execution_count": 1,
   "id": "1fbaaae9-4848-465b-9598-422b0b3e2a63",
   "metadata": {
    "execution": {
     "iopub.execute_input": "2023-09-17T20:48:08.595047Z",
     "iopub.status.busy": "2023-09-17T20:48:08.593719Z",
     "iopub.status.idle": "2023-09-17T20:48:09.389207Z",
     "shell.execute_reply": "2023-09-17T20:48:09.388778Z",
     "shell.execute_reply.started": "2023-09-17T20:48:08.595006Z"
    },
    "tags": []
   },
   "outputs": [
    {
     "data": {
      "text/html": [
       "\n",
       "    <script src=\"/static/.hidden/netpixi.min.js\"></script>\n"
      ],
      "text/plain": [
       "<IPython.core.display.HTML object>"
      ]
     },
     "metadata": {},
     "output_type": "display_data"
    }
   ],
   "source": [
    "import graph_tool_extras as gte\n",
    "import netpixi\n",
    "from graph_tool import draw"
   ]
  },
  {
   "cell_type": "code",
   "execution_count": 2,
   "id": "6a495123-9632-4f0c-b6ac-d803ed2d9081",
   "metadata": {
    "execution": {
     "iopub.execute_input": "2023-09-17T20:48:10.166519Z",
     "iopub.status.busy": "2023-09-17T20:48:10.164842Z",
     "iopub.status.idle": "2023-09-17T20:48:14.868590Z",
     "shell.execute_reply": "2023-09-17T20:48:14.867980Z",
     "shell.execute_reply.started": "2023-09-17T20:48:10.166465Z"
    }
   },
   "outputs": [],
   "source": [
    "g = gte.load('HR_edges.net.gz')"
   ]
  },
  {
   "cell_type": "code",
   "execution_count": null,
   "id": "b81169d9-158a-4325-9675-ec05d25a7ba4",
   "metadata": {},
   "outputs": [],
   "source": [
    "g.density()"
   ]
  },
  {
   "cell_type": "code",
   "execution_count": null,
   "id": "14250bd9-dd2a-47d8-8c64-8b5b71100855",
   "metadata": {},
   "outputs": [],
   "source": [
    "g.transitivity()"
   ]
  },
  {
   "cell_type": "code",
   "execution_count": 3,
   "id": "c4fbd82e-86e0-4187-ba65-185f638aabbd",
   "metadata": {
    "execution": {
     "iopub.execute_input": "2023-09-17T20:48:22.463936Z",
     "iopub.status.busy": "2023-09-17T20:48:22.463178Z",
     "iopub.status.idle": "2023-09-17T20:48:22.474116Z",
     "shell.execute_reply": "2023-09-17T20:48:22.472214Z",
     "shell.execute_reply.started": "2023-09-17T20:48:22.463891Z"
    }
   },
   "outputs": [
    {
     "data": {
      "text/plain": [
       "498202"
      ]
     },
     "execution_count": 3,
     "metadata": {},
     "output_type": "execute_result"
    }
   ],
   "source": [
    "g.num_edges()"
   ]
  },
  {
   "cell_type": "code",
   "execution_count": 4,
   "id": "cd532a3b-2387-4c27-8481-97d7eb0129fe",
   "metadata": {
    "execution": {
     "iopub.execute_input": "2023-09-17T20:48:22.964946Z",
     "iopub.status.busy": "2023-09-17T20:48:22.964156Z",
     "iopub.status.idle": "2023-09-17T20:48:22.975163Z",
     "shell.execute_reply": "2023-09-17T20:48:22.973469Z",
     "shell.execute_reply.started": "2023-09-17T20:48:22.964916Z"
    }
   },
   "outputs": [
    {
     "data": {
      "text/plain": [
       "54573"
      ]
     },
     "execution_count": 4,
     "metadata": {},
     "output_type": "execute_result"
    }
   ],
   "source": [
    "g.num_vertices()"
   ]
  },
  {
   "cell_type": "code",
   "execution_count": 5,
   "id": "eb538320-1a18-4aa5-82c4-66fda42f9e54",
   "metadata": {
    "execution": {
     "iopub.execute_input": "2023-09-17T20:48:23.989828Z",
     "iopub.status.busy": "2023-09-17T20:48:23.988861Z",
     "iopub.status.idle": "2023-09-17T20:48:24.234875Z",
     "shell.execute_reply": "2023-09-17T20:48:24.234545Z",
     "shell.execute_reply.started": "2023-09-17T20:48:23.989789Z"
    }
   },
   "outputs": [
    {
     "data": {
      "image/png": "[encoded data removed]",
      "text/plain": [
       "<Figure size 640x480 with 1 Axes>"
      ]
     },
     "metadata": {},
     "output_type": "display_data"
    }
   ],
   "source": [
    "degrees = g.get_total_degrees()\n",
    "\n",
    "degrees.hist(bins=20);"
   ]
  },
  {
   "cell_type": "code",
   "execution_count": null,
   "id": "3eea050c-925d-4bfc-b49d-06d6f95c9e07",
   "metadata": {},
   "outputs": [],
   "source": [
    "import matplotlib.pyplot as plt\n",
    "\n",
    "# Suponha que 'degrees' seja o seu objeto de dados\n",
    "plt.hist(degrees, bins=20)  # Crie o histograma\n",
    "\n",
    "\n",
    "# Salve o histograma em um arquivo PNG\n",
    "plt.savefig('histograma.png', format='png')\n",
    "\n",
    "# Exiba o histograma, se desejar\n",
    "plt.show()"
   ]
  },
  {
   "cell_type": "code",
   "execution_count": null,
   "id": "607b9607-bbd8-4ca3-9f42-3b5c1dfa1f6b",
   "metadata": {},
   "outputs": [],
   "source": [
    "degrees.describe()"
   ]
  },
  {
   "cell_type": "code",
   "execution_count": null,
   "id": "685621e2-c1b7-4e46-90b3-3f418a7d4145",
   "metadata": {},
   "outputs": [],
   "source": [
    "import distribution as dst"
   ]
  },
  {
   "cell_type": "code",
   "execution_count": null,
   "id": "bd1e3053-752a-4820-9c93-6736726bd2d4",
   "metadata": {},
   "outputs": [],
   "source": [
    "\n",
    "resultado = dst.not_normal(degrees)\n",
    "\n",
    "# Aumente o número de casas decimais, por exemplo, para 4 casas decimais\n",
    "resultado_formatado = round(resultado, 4)\n",
    "\n",
    "print(resultado_formatado)\n"
   ]
  },
  {
   "cell_type": "code",
   "execution_count": null,
   "id": "04c4bc63-803a-444d-9e86-700bc80c3c99",
   "metadata": {},
   "outputs": [],
   "source": [
    "dst.more_powerlaw_than_lognormal(degrees)"
   ]
  },
  {
   "cell_type": "code",
   "execution_count": null,
   "id": "390bd5e8-7c3b-496f-b9c7-99ed3ab089c0",
   "metadata": {},
   "outputs": [],
   "source": [
    "dst.more_powerlaw_than_exponential(degrees)"
   ]
  },
  {
   "cell_type": "code",
   "execution_count": null,
   "id": "f9f0cb62-7a1d-4ae3-a716-4f4c354b0ddf",
   "metadata": {},
   "outputs": [],
   "source": [
    "degrees.hist();"
   ]
  },
  {
   "cell_type": "code",
   "execution_count": null,
   "id": "16651c20-54c5-4904-bff0-67535f8819f0",
   "metadata": {},
   "outputs": [],
   "source": [
    "distances = g.get_distances()\n",
    "distances.describe()"
   ]
  },
  {
   "cell_type": "code",
   "execution_count": null,
   "id": "98f89d2a-b23b-4b82-bd92-a2a8dd38ebf5",
   "metadata": {},
   "outputs": [],
   "source": []
  }
 ],
 "metadata": {
  "kernelspec": {
   "display_name": "Python 3 (ipykernel)",
   "language": "python",
   "name": "python3"
  },
  "language_info": {
   "codemirror_mode": {
    "name": "ipython",
    "version": 3
   },
   "file_extension": ".py",
   "mimetype": "text/x-python",
   "name": "python",
   "nbconvert_exporter": "python",
   "pygments_lexer": "ipython3",
   "version": "3.11.5"
  }
 },
 "nbformat": 4,
 "nbformat_minor": 5
}
