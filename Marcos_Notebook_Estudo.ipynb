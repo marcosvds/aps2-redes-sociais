{
 "cells": [
  {
   "cell_type": "markdown",
   "id": "bfa5aa97-c10e-46d7-832f-9f44c311a1d4",
   "metadata": {
    "execution": {
     "iopub.execute_input": "2023-08-27T20:43:03.557050Z",
     "iopub.status.busy": "2023-08-27T20:43:03.549426Z",
     "iopub.status.idle": "2023-08-27T20:43:03.612417Z",
     "shell.execute_reply": "2023-08-27T20:43:03.606436Z",
     "shell.execute_reply.started": "2023-08-27T20:43:03.556679Z"
    }
   },
   "source": [
    "# Atividade Prática Supervisionada 1 - Grupo C"
   ]
  },
  {
   "cell_type": "markdown",
   "id": "f1a33360-723d-421e-86d5-c6fa44406292",
   "metadata": {
    "execution": {
     "iopub.execute_input": "2023-08-27T20:45:03.364104Z",
     "iopub.status.busy": "2023-08-27T20:45:03.358938Z",
     "iopub.status.idle": "2023-08-27T20:45:03.418785Z",
     "shell.execute_reply": "2023-08-27T20:45:03.404523Z",
     "shell.execute_reply.started": "2023-08-27T20:45:03.363883Z"
    }
   },
   "source": [
    "## Dataset escolhido\n",
    "- [Sobre o material](https://snap.stanford.edu/data/loc-Brightkite.html)\n",
    "- [⬇⬇ link para download do dataset ⬇⬇](https://snap.stanford.edu/data/loc-brightkite_edges.txt.gz)\n",
    "- [O que é brightkite](https://brightkite.com/)"
   ]
  },
  {
   "cell_type": "code",
   "execution_count": 1,
   "id": "2c03884d-d187-4263-8630-72164dd15789",
   "metadata": {
    "execution": {
     "iopub.execute_input": "2023-08-31T02:04:26.667063Z",
     "iopub.status.busy": "2023-08-31T02:04:26.665315Z",
     "iopub.status.idle": "2023-08-31T02:04:32.137199Z",
     "shell.execute_reply": "2023-08-31T02:04:32.135847Z",
     "shell.execute_reply.started": "2023-08-31T02:04:26.666776Z"
    },
    "tags": []
   },
   "outputs": [
    {
     "data": {
      "text/html": [
       "\n",
       "    <script src=\"/static/.hidden/netpixi.min.js\"></script>\n"
      ],
      "text/plain": [
       "<IPython.core.display.HTML object>"
      ]
     },
     "metadata": {},
     "output_type": "display_data"
    }
   ],
   "source": [
    "import pandas as pd\n",
    "import numpy as np\n",
    "import graph_tool_extras as gte\n",
    "import netpixi\n",
    "from graph_tool import draw"
   ]
  },
  {
   "cell_type": "code",
   "execution_count": 2,
   "id": "6dc69aef-4487-4307-9188-04eb9d524059",
   "metadata": {
    "execution": {
     "iopub.execute_input": "2023-08-31T02:04:32.140405Z",
     "iopub.status.busy": "2023-08-31T02:04:32.139915Z",
     "iopub.status.idle": "2023-08-31T02:04:32.146907Z",
     "shell.execute_reply": "2023-08-31T02:04:32.145011Z",
     "shell.execute_reply.started": "2023-08-31T02:04:32.140357Z"
    }
   },
   "outputs": [],
   "source": [
    "PATH = './loc-brightkite_edges.txt'"
   ]
  },
  {
   "cell_type": "code",
   "execution_count": 3,
   "id": "de50163d-62fb-46e6-957c-0e494202b5bb",
   "metadata": {
    "execution": {
     "iopub.execute_input": "2023-08-31T02:04:32.150974Z",
     "iopub.status.busy": "2023-08-31T02:04:32.150499Z",
     "iopub.status.idle": "2023-08-31T02:04:32.179472Z",
     "shell.execute_reply": "2023-08-31T02:04:32.178241Z",
     "shell.execute_reply.started": "2023-08-31T02:04:32.150940Z"
    }
   },
   "outputs": [],
   "source": [
    "def read_ds(path, sep=','):\n",
    "    output = []\n",
    "    with open(path) as file:\n",
    "        for line in file:\n",
    "            nodes = line.rstrip().split(sep)\n",
    "            output.append(nodes)\n",
    "    return np.array(output)"
   ]
  },
  {
   "cell_type": "code",
   "execution_count": null,
   "id": "88979ba8-0bd4-4e64-b5cf-82c5f0fa2d31",
   "metadata": {
    "scrolled": true
   },
   "outputs": [],
   "source": [
    "nodes = read_ds(PATH, sep='\\t')"
   ]
  },
  {
   "cell_type": "code",
   "execution_count": null,
   "id": "4631582e-3369-4b72-bcf7-239b65f3ca32",
   "metadata": {},
   "outputs": [],
   "source": [
    "nodes_uniques = np.array(list(set(nodes[:, 0])))"
   ]
  },
  {
   "cell_type": "code",
   "execution_count": null,
   "id": "a90ec3ea-cb11-4284-a6c4-1d93081e722d",
   "metadata": {},
   "outputs": [],
   "source": [
    "nodes = np.array([sorted([int(x[0]), int(x[1])]) for x in nodes])"
   ]
  },
  {
   "cell_type": "code",
   "execution_count": 5,
   "id": "bf3c24a8-e30e-4db7-8285-318f6f96b65a",
   "metadata": {
    "execution": {
     "iopub.execute_input": "2023-08-31T02:04:37.475975Z",
     "iopub.status.busy": "2023-08-31T02:04:37.475618Z",
     "iopub.status.idle": "2023-08-31T02:04:37.821976Z",
     "shell.execute_reply": "2023-08-31T02:04:37.820707Z",
     "shell.execute_reply.started": "2023-08-31T02:04:37.475950Z"
    }
   },
   "outputs": [],
   "source": [
    "edges = {(x[0], x[1]) for x in nodes}"
   ]
  },
  {
   "cell_type": "code",
   "execution_count": 6,
   "id": "fbebdbce-2ef7-45db-bca1-6b626f851c9e",
   "metadata": {
    "execution": {
     "iopub.execute_input": "2023-08-31T02:04:37.823448Z",
     "iopub.status.busy": "2023-08-31T02:04:37.823150Z",
     "iopub.status.idle": "2023-08-31T02:04:37.836822Z",
     "shell.execute_reply": "2023-08-31T02:04:37.831727Z",
     "shell.execute_reply.started": "2023-08-31T02:04:37.823422Z"
    }
   },
   "outputs": [
    {
     "name": "stdout",
     "output_type": "stream",
     "text": [
      "Temos 58228 vértices nessa rede\n"
     ]
    }
   ],
   "source": [
    "print(f'Temos {len(nodes_uniques)} vértices nessa rede')"
   ]
  },
  {
   "cell_type": "code",
   "execution_count": 7,
   "id": "a398a76d-b201-4e7f-a23e-64bda18399d5",
   "metadata": {
    "execution": {
     "iopub.execute_input": "2023-08-31T02:04:37.851625Z",
     "iopub.status.busy": "2023-08-31T02:04:37.846124Z",
     "iopub.status.idle": "2023-08-31T02:04:37.870049Z",
     "shell.execute_reply": "2023-08-31T02:04:37.865217Z",
     "shell.execute_reply.started": "2023-08-31T02:04:37.851486Z"
    }
   },
   "outputs": [
    {
     "name": "stdout",
     "output_type": "stream",
     "text": [
      "Temos 214078 arestas nessa rede\n"
     ]
    }
   ],
   "source": [
    "print(f'Temos {len(edges)} arestas nessa rede')"
   ]
  },
  {
   "cell_type": "code",
   "execution_count": 8,
   "id": "19df9b2f-c695-41ba-bd2a-d52965e233a9",
   "metadata": {
    "execution": {
     "iopub.execute_input": "2023-08-31T02:04:37.937519Z",
     "iopub.status.busy": "2023-08-31T02:04:37.936259Z",
     "iopub.status.idle": "2023-08-31T02:04:37.944699Z",
     "shell.execute_reply": "2023-08-31T02:04:37.943092Z",
     "shell.execute_reply.started": "2023-08-31T02:04:37.937473Z"
    }
   },
   "outputs": [],
   "source": [
    "g = gte.Graph(directed=False)"
   ]
  },
  {
   "cell_type": "code",
   "execution_count": 9,
   "id": "e3baf73c-ef07-4531-a1fd-121a0de5afb9",
   "metadata": {
    "execution": {
     "iopub.execute_input": "2023-08-31T02:04:39.073087Z",
     "iopub.status.busy": "2023-08-31T02:04:39.072564Z",
     "iopub.status.idle": "2023-08-31T02:04:39.129419Z",
     "shell.execute_reply": "2023-08-31T02:04:39.128131Z",
     "shell.execute_reply.started": "2023-08-31T02:04:39.073048Z"
    }
   },
   "outputs": [],
   "source": [
    "nodes = np.array([int(x) for x in nodes_uniques])"
   ]
  },
  {
   "cell_type": "code",
   "execution_count": 10,
   "id": "86676107-0ab1-47c0-940a-931e96ef2fc9",
   "metadata": {
    "execution": {
     "iopub.execute_input": "2023-08-31T02:04:39.653786Z",
     "iopub.status.busy": "2023-08-31T02:04:39.650679Z",
     "iopub.status.idle": "2023-08-31T02:04:40.702540Z",
     "shell.execute_reply": "2023-08-31T02:04:40.701170Z",
     "shell.execute_reply.started": "2023-08-31T02:04:39.653638Z"
    }
   },
   "outputs": [],
   "source": [
    "for n in nodes:\n",
    "    g.add_vertex_by_id(str(n))"
   ]
  },
  {
   "cell_type": "code",
   "execution_count": 11,
   "id": "9e63844a-4377-44ba-b33a-e3245d2d4633",
   "metadata": {
    "execution": {
     "iopub.execute_input": "2023-08-31T02:04:40.704158Z",
     "iopub.status.busy": "2023-08-31T02:04:40.703799Z",
     "iopub.status.idle": "2023-08-31T02:04:44.592656Z",
     "shell.execute_reply": "2023-08-31T02:04:44.591407Z",
     "shell.execute_reply.started": "2023-08-31T02:04:40.704137Z"
    }
   },
   "outputs": [],
   "source": [
    "for n1, n2 in edges:\n",
    "    g.add_edge_by_ids(str(n1), str(n2)) "
   ]
  },
  {
   "cell_type": "code",
   "execution_count": null,
   "id": "89d170f8-af75-4c6b-b60a-db04a05353ac",
   "metadata": {
    "execution": {
     "iopub.execute_input": "2023-08-31T02:04:44.595232Z",
     "iopub.status.busy": "2023-08-31T02:04:44.594817Z"
    }
   },
   "outputs": [],
   "source": [
    "layout = draw.sfdp_layout(g)"
   ]
  },
  {
   "cell_type": "code",
   "execution_count": null,
   "id": "6d82d08d-ef5d-4a69-8d57-dbf49a90e3d5",
   "metadata": {},
   "outputs": [],
   "source": [
    "gte.move(g, layout)"
   ]
  },
  {
   "cell_type": "code",
   "execution_count": null,
   "id": "6a495123-9632-4f0c-b6ac-d803ed2d9081",
   "metadata": {},
   "outputs": [],
   "source": [
    "gte.save(g, 'brightkite-reposicionado.net.gz')"
   ]
  },
  {
   "cell_type": "code",
   "execution_count": null,
   "id": "d0979af5-d954-4dcc-895c-2e590b6199a9",
   "metadata": {
    "scrolled": true
   },
   "outputs": [],
   "source": [
    "r = netpixi.render('brightkite-reposicionado.net.gz',infinite=True)"
   ]
  },
  {
   "cell_type": "code",
   "execution_count": null,
   "id": "f3a169a4-d9e3-4a3c-a0a2-c4ef76f18529",
   "metadata": {
    "scrolled": true
   },
   "outputs": [],
   "source": [
    "r.vertex_default(size=4, bwidth=1)"
   ]
  },
  {
   "cell_type": "code",
   "execution_count": null,
   "id": "83712f17-e32b-41fe-a60b-0203c2c2ae92",
   "metadata": {},
   "outputs": [],
   "source": [
    "r.edge_default(width=1)"
   ]
  }
 ],
 "metadata": {
  "kernelspec": {
   "display_name": "Python 3 (ipykernel)",
   "language": "python",
   "name": "python3"
  },
  "language_info": {
   "codemirror_mode": {
    "name": "ipython",
    "version": 3
   },
   "file_extension": ".py",
   "mimetype": "text/x-python",
   "name": "python",
   "nbconvert_exporter": "python",
   "pygments_lexer": "ipython3",
   "version": "3.9.13"
  }
 },
 "nbformat": 4,
 "nbformat_minor": 5
}
