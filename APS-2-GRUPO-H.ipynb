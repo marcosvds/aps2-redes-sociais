{
 "cells": [
  {
   "cell_type": "markdown",
   "id": "bfa5aa97-c10e-46d7-832f-9f44c311a1d4",
   "metadata": {
    "execution": {
     "iopub.execute_input": "2023-08-27T20:43:03.557050Z",
     "iopub.status.busy": "2023-08-27T20:43:03.549426Z",
     "iopub.status.idle": "2023-08-27T20:43:03.612417Z",
     "shell.execute_reply": "2023-08-27T20:43:03.606436Z",
     "shell.execute_reply.started": "2023-08-27T20:43:03.556679Z"
    }
   },
   "source": [
    "# Atividade Prática Supervisionada 2 - Grupo H"
   ]
  },
  {
   "cell_type": "markdown",
   "id": "f1a33360-723d-421e-86d5-c6fa44406292",
   "metadata": {
    "execution": {
     "iopub.execute_input": "2023-08-27T20:45:03.364104Z",
     "iopub.status.busy": "2023-08-27T20:45:03.358938Z",
     "iopub.status.idle": "2023-08-27T20:45:03.418785Z",
     "shell.execute_reply": "2023-08-27T20:45:03.404523Z",
     "shell.execute_reply.started": "2023-08-27T20:45:03.363883Z"
    }
   },
   "source": []
  },
  {
   "cell_type": "code",
   "execution_count": 34,
   "id": "1fbaaae9-4848-465b-9598-422b0b3e2a63",
   "metadata": {
    "execution": {
     "iopub.execute_input": "2023-09-17T02:43:59.291329Z",
     "iopub.status.busy": "2023-09-17T02:43:59.290568Z",
     "iopub.status.idle": "2023-09-17T02:43:59.296281Z",
     "shell.execute_reply": "2023-09-17T02:43:59.295161Z",
     "shell.execute_reply.started": "2023-09-17T02:43:59.291304Z"
    },
    "tags": []
   },
   "outputs": [],
   "source": [
    "import pandas as pd\n",
    "import numpy as np\n",
    "import graph_tool_extras as gte\n",
    "import netpixi\n",
    "from graph_tool import draw"
   ]
  },
  {
   "cell_type": "code",
   "execution_count": 35,
   "id": "6dc69aef-4487-4307-9188-04eb9d524059",
   "metadata": {
    "execution": {
     "iopub.execute_input": "2023-09-17T02:43:59.814926Z",
     "iopub.status.busy": "2023-09-17T02:43:59.814568Z",
     "iopub.status.idle": "2023-09-17T02:43:59.821317Z",
     "shell.execute_reply": "2023-09-17T02:43:59.820378Z",
     "shell.execute_reply.started": "2023-09-17T02:43:59.814902Z"
    }
   },
   "outputs": [],
   "source": [
    "PATH = './HR_edges.csv'"
   ]
  },
  {
   "cell_type": "code",
   "execution_count": 36,
   "id": "de50163d-62fb-46e6-957c-0e494202b5bb",
   "metadata": {
    "execution": {
     "iopub.execute_input": "2023-09-17T02:44:00.171731Z",
     "iopub.status.busy": "2023-09-17T02:44:00.171505Z",
     "iopub.status.idle": "2023-09-17T02:44:00.178026Z",
     "shell.execute_reply": "2023-09-17T02:44:00.177162Z",
     "shell.execute_reply.started": "2023-09-17T02:44:00.171716Z"
    }
   },
   "outputs": [],
   "source": [
    "def read_ds(path, sep=','):\n",
    "    output = []\n",
    "    with open(path) as file:\n",
    "        first_line = True  # Variável para ignorar a primeira linha\n",
    "        for line in file:\n",
    "            if first_line:\n",
    "                first_line = False  # Ignorar a primeira linha\n",
    "                continue\n",
    "            nodes = line.rstrip().split(sep)\n",
    "            output.append(nodes)\n",
    "    return np.array(output)"
   ]
  },
  {
   "cell_type": "code",
   "execution_count": 71,
   "id": "88979ba8-0bd4-4e64-b5cf-82c5f0fa2d31",
   "metadata": {
    "execution": {
     "iopub.execute_input": "2023-09-17T02:47:17.170907Z",
     "iopub.status.busy": "2023-09-17T02:47:17.168083Z",
     "iopub.status.idle": "2023-09-17T02:47:17.901270Z",
     "shell.execute_reply": "2023-09-17T02:47:17.900838Z",
     "shell.execute_reply.started": "2023-09-17T02:47:17.170824Z"
    },
    "scrolled": true
   },
   "outputs": [],
   "source": [
    "nodes_data = read_ds(PATH, sep=',')"
   ]
  },
  {
   "cell_type": "code",
   "execution_count": 72,
   "id": "2f9fdca8-a16e-4eb2-b8ca-04690ccccae5",
   "metadata": {
    "execution": {
     "iopub.execute_input": "2023-09-17T02:47:22.643609Z",
     "iopub.status.busy": "2023-09-17T02:47:22.643192Z",
     "iopub.status.idle": "2023-09-17T02:47:22.650900Z",
     "shell.execute_reply": "2023-09-17T02:47:22.649869Z",
     "shell.execute_reply.started": "2023-09-17T02:47:22.643578Z"
    }
   },
   "outputs": [
    {
     "data": {
      "text/plain": [
       "array([['0', '4076'],\n",
       "       ['0', '29861'],\n",
       "       ['0', '53717'],\n",
       "       ...,\n",
       "       ['54356', '11627'],\n",
       "       ['54412', '54428'],\n",
       "       ['54490', '25502']], dtype='<U5')"
      ]
     },
     "execution_count": 72,
     "metadata": {},
     "output_type": "execute_result"
    }
   ],
   "source": [
    "nodes_data"
   ]
  },
  {
   "cell_type": "code",
   "execution_count": 73,
   "id": "4631582e-3369-4b72-bcf7-239b65f3ca32",
   "metadata": {
    "execution": {
     "iopub.execute_input": "2023-09-17T02:47:23.351149Z",
     "iopub.status.busy": "2023-09-17T02:47:23.350449Z",
     "iopub.status.idle": "2023-09-17T02:47:23.355368Z",
     "shell.execute_reply": "2023-09-17T02:47:23.354140Z",
     "shell.execute_reply.started": "2023-09-17T02:47:23.351123Z"
    }
   },
   "outputs": [],
   "source": [
    "#nodes_uniques = np.array(list(set(nodes[:, 0])))"
   ]
  },
  {
   "cell_type": "code",
   "execution_count": 74,
   "id": "b75daf6f-591f-4184-a2c8-fc6d53c88618",
   "metadata": {
    "execution": {
     "iopub.execute_input": "2023-09-17T02:47:23.915959Z",
     "iopub.status.busy": "2023-09-17T02:47:23.915348Z",
     "iopub.status.idle": "2023-09-17T02:47:23.923762Z",
     "shell.execute_reply": "2023-09-17T02:47:23.921355Z",
     "shell.execute_reply.started": "2023-09-17T02:47:23.915929Z"
    }
   },
   "outputs": [],
   "source": [
    "#nodes_uniques = [int(node) for node in nodes_uniques]"
   ]
  },
  {
   "cell_type": "code",
   "execution_count": 75,
   "id": "06457168-b1dd-4333-94d9-459a39f319ec",
   "metadata": {
    "execution": {
     "iopub.execute_input": "2023-09-17T02:47:24.432964Z",
     "iopub.status.busy": "2023-09-17T02:47:24.432313Z",
     "iopub.status.idle": "2023-09-17T02:47:24.618843Z",
     "shell.execute_reply": "2023-09-17T02:47:24.618481Z",
     "shell.execute_reply.started": "2023-09-17T02:47:24.432939Z"
    }
   },
   "outputs": [],
   "source": [
    "nodes_uniques = np.unique(nodes_data)\n",
    "nodes_uniques = [int(node) for node in nodes_uniques]"
   ]
  },
  {
   "cell_type": "code",
   "execution_count": 76,
   "id": "a90ec3ea-cb11-4284-a6c4-1d93081e722d",
   "metadata": {
    "execution": {
     "iopub.execute_input": "2023-09-17T02:47:25.384079Z",
     "iopub.status.busy": "2023-09-17T02:47:25.383353Z",
     "iopub.status.idle": "2023-09-17T02:47:25.388084Z",
     "shell.execute_reply": "2023-09-17T02:47:25.386952Z",
     "shell.execute_reply.started": "2023-09-17T02:47:25.384055Z"
    }
   },
   "outputs": [],
   "source": [
    "#nodes = np.array([sorted([int(x[0]), int(x[1])]) for x in nodes])"
   ]
  },
  {
   "cell_type": "code",
   "execution_count": 77,
   "id": "bf3c24a8-e30e-4db7-8285-318f6f96b65a",
   "metadata": {
    "execution": {
     "iopub.execute_input": "2023-09-17T02:47:25.959015Z",
     "iopub.status.busy": "2023-09-17T02:47:25.958051Z",
     "iopub.status.idle": "2023-09-17T02:47:25.964517Z",
     "shell.execute_reply": "2023-09-17T02:47:25.961822Z",
     "shell.execute_reply.started": "2023-09-17T02:47:25.958987Z"
    }
   },
   "outputs": [],
   "source": [
    "#edges = {(x[0], x[1]) for x in nodes}"
   ]
  },
  {
   "cell_type": "code",
   "execution_count": 78,
   "id": "fbebdbce-2ef7-45db-bca1-6b626f851c9e",
   "metadata": {
    "execution": {
     "iopub.execute_input": "2023-09-17T02:47:26.191540Z",
     "iopub.status.busy": "2023-09-17T02:47:26.191123Z",
     "iopub.status.idle": "2023-09-17T02:47:26.195901Z",
     "shell.execute_reply": "2023-09-17T02:47:26.194792Z",
     "shell.execute_reply.started": "2023-09-17T02:47:26.191515Z"
    }
   },
   "outputs": [],
   "source": [
    "#print(f'Temos {len(nodes_uniques)} vértices nessa rede')"
   ]
  },
  {
   "cell_type": "code",
   "execution_count": 79,
   "id": "a398a76d-b201-4e7f-a23e-64bda18399d5",
   "metadata": {
    "execution": {
     "iopub.execute_input": "2023-09-17T02:47:26.483855Z",
     "iopub.status.busy": "2023-09-17T02:47:26.483509Z",
     "iopub.status.idle": "2023-09-17T02:47:26.489985Z",
     "shell.execute_reply": "2023-09-17T02:47:26.488143Z",
     "shell.execute_reply.started": "2023-09-17T02:47:26.483830Z"
    }
   },
   "outputs": [],
   "source": [
    "#print(f'Temos {len(edges)} arestas nessa rede')"
   ]
  },
  {
   "cell_type": "code",
   "execution_count": 80,
   "id": "19df9b2f-c695-41ba-bd2a-d52965e233a9",
   "metadata": {
    "execution": {
     "iopub.execute_input": "2023-09-17T02:47:28.783145Z",
     "iopub.status.busy": "2023-09-17T02:47:28.782884Z",
     "iopub.status.idle": "2023-09-17T02:47:28.795234Z",
     "shell.execute_reply": "2023-09-17T02:47:28.794347Z",
     "shell.execute_reply.started": "2023-09-17T02:47:28.783127Z"
    }
   },
   "outputs": [],
   "source": [
    "g = gte.Graph(directed=False)"
   ]
  },
  {
   "cell_type": "code",
   "execution_count": 81,
   "id": "e3baf73c-ef07-4531-a1fd-121a0de5afb9",
   "metadata": {
    "execution": {
     "iopub.execute_input": "2023-09-17T02:47:29.215834Z",
     "iopub.status.busy": "2023-09-17T02:47:29.215467Z",
     "iopub.status.idle": "2023-09-17T02:47:29.220094Z",
     "shell.execute_reply": "2023-09-17T02:47:29.219089Z",
     "shell.execute_reply.started": "2023-09-17T02:47:29.215811Z"
    }
   },
   "outputs": [],
   "source": [
    "#nodes = np.array([int(x) for x in nodes_uniques])"
   ]
  },
  {
   "cell_type": "code",
   "execution_count": 82,
   "id": "86676107-0ab1-47c0-940a-931e96ef2fc9",
   "metadata": {
    "execution": {
     "iopub.execute_input": "2023-09-17T02:47:29.471071Z",
     "iopub.status.busy": "2023-09-17T02:47:29.470738Z",
     "iopub.status.idle": "2023-09-17T02:47:29.477277Z",
     "shell.execute_reply": "2023-09-17T02:47:29.475554Z",
     "shell.execute_reply.started": "2023-09-17T02:47:29.471043Z"
    }
   },
   "outputs": [],
   "source": [
    "#for node_id in nodes_uniques:\n",
    " #   g.add_vertex(node_id)"
   ]
  },
  {
   "cell_type": "code",
   "execution_count": 83,
   "id": "c155d4d5-c28a-4d97-a2ab-66670ae921f1",
   "metadata": {
    "execution": {
     "iopub.execute_input": "2023-09-17T02:47:29.826473Z",
     "iopub.status.busy": "2023-09-17T02:47:29.826159Z",
     "iopub.status.idle": "2023-09-17T02:47:30.102526Z",
     "shell.execute_reply": "2023-09-17T02:47:30.102136Z",
     "shell.execute_reply.started": "2023-09-17T02:47:29.826448Z"
    }
   },
   "outputs": [],
   "source": [
    "# Adicionar vértices com IDs diretamente\n",
    "for node_id in nodes_uniques:\n",
    "    g.add_vertex_by_id(str(node_id))"
   ]
  },
  {
   "cell_type": "code",
   "execution_count": 84,
   "id": "9e63844a-4377-44ba-b33a-e3245d2d4633",
   "metadata": {
    "execution": {
     "iopub.execute_input": "2023-09-17T02:47:31.873159Z",
     "iopub.status.busy": "2023-09-17T02:47:31.872010Z",
     "iopub.status.idle": "2023-09-17T02:47:34.954279Z",
     "shell.execute_reply": "2023-09-17T02:47:34.953840Z",
     "shell.execute_reply.started": "2023-09-17T02:47:31.873121Z"
    }
   },
   "outputs": [],
   "source": [
    "# Adicionar as arestas\n",
    "for node1, node2 in nodes_data:\n",
    "    g.add_edge(g.vertex(str(node1)), g.vertex(str(node2)))"
   ]
  },
  {
   "cell_type": "code",
   "execution_count": 85,
   "id": "89d170f8-af75-4c6b-b60a-db04a05353ac",
   "metadata": {
    "execution": {
     "iopub.execute_input": "2023-09-17T02:47:40.653020Z",
     "iopub.status.busy": "2023-09-17T02:47:40.652047Z",
     "iopub.status.idle": "2023-09-17T02:49:06.036186Z",
     "shell.execute_reply": "2023-09-17T02:49:06.034886Z",
     "shell.execute_reply.started": "2023-09-17T02:47:40.652984Z"
    }
   },
   "outputs": [],
   "source": [
    "layout = draw.sfdp_layout(g)"
   ]
  },
  {
   "cell_type": "code",
   "execution_count": 86,
   "id": "6d82d08d-ef5d-4a69-8d57-dbf49a90e3d5",
   "metadata": {
    "execution": {
     "iopub.execute_input": "2023-09-17T02:49:06.041948Z",
     "iopub.status.busy": "2023-09-17T02:49:06.041753Z",
     "iopub.status.idle": "2023-09-17T02:49:06.750123Z",
     "shell.execute_reply": "2023-09-17T02:49:06.749749Z",
     "shell.execute_reply.started": "2023-09-17T02:49:06.041925Z"
    }
   },
   "outputs": [],
   "source": [
    "gte.move(g, layout)"
   ]
  },
  {
   "cell_type": "code",
   "execution_count": 87,
   "id": "6a495123-9632-4f0c-b6ac-d803ed2d9081",
   "metadata": {
    "execution": {
     "iopub.execute_input": "2023-09-17T02:50:30.427763Z",
     "iopub.status.busy": "2023-09-17T02:50:30.426273Z",
     "iopub.status.idle": "2023-09-17T02:50:42.700668Z",
     "shell.execute_reply": "2023-09-17T02:50:42.700148Z",
     "shell.execute_reply.started": "2023-09-17T02:50:30.427689Z"
    }
   },
   "outputs": [],
   "source": [
    "gte.save(g, 'H_edges.net.gz')"
   ]
  },
  {
   "cell_type": "code",
   "execution_count": 88,
   "id": "d0979af5-d954-4dcc-895c-2e590b6199a9",
   "metadata": {
    "execution": {
     "iopub.execute_input": "2023-09-17T02:50:57.206311Z",
     "iopub.status.busy": "2023-09-17T02:50:57.204696Z",
     "iopub.status.idle": "2023-09-17T02:50:57.236118Z",
     "shell.execute_reply": "2023-09-17T02:50:57.234657Z",
     "shell.execute_reply.started": "2023-09-17T02:50:57.206245Z"
    },
    "scrolled": true
   },
   "outputs": [
    {
     "data": {
      "text/html": [
       "\n",
       "        <div id=\"RM43E9rTmzyyBCpUqWmsMU\"></div>\n",
       "        <script>netpixi.render('RM43E9rTmzyyBCpUqWmsMU', '/static/__shared__/aps2-redes-sociais/H_edges.net.gz', 1.7777777777777777, true, true, false, true);</script>\n",
       "    "
      ],
      "text/plain": [
       "<IPython.core.display.HTML object>"
      ]
     },
     "metadata": {},
     "output_type": "display_data"
    }
   ],
   "source": [
    "r = netpixi.render('H_edges.net.gz',infinite=True)"
   ]
  },
  {
   "cell_type": "code",
   "execution_count": 89,
   "id": "f3a169a4-d9e3-4a3c-a0a2-c4ef76f18529",
   "metadata": {
    "execution": {
     "iopub.execute_input": "2023-09-17T02:52:01.136039Z",
     "iopub.status.busy": "2023-09-17T02:52:01.133027Z",
     "iopub.status.idle": "2023-09-17T02:52:01.153757Z",
     "shell.execute_reply": "2023-09-17T02:52:01.152783Z",
     "shell.execute_reply.started": "2023-09-17T02:52:01.135969Z"
    },
    "scrolled": true
   },
   "outputs": [
    {
     "data": {
      "text/html": [
       "\n",
       "        <div id=\"EgE25UzJAHcD7Gi9k3mBnc\"></div>\n",
       "        <script>netpixi.call('EgE25UzJAHcD7Gi9k3mBnc', 'RM43E9rTmzyyBCpUqWmsMU', 'changeGraph', 'eyJ0eXBlIjogInNldHRpbmdzIiwgInByb3BzIjogeyJ2ZXJ0ZXgiOiB7InNpemUiOiA0LCAiYndpZHRoIjogMX19fQo=');</script>\n",
       "    "
      ],
      "text/plain": [
       "<IPython.core.display.HTML object>"
      ]
     },
     "metadata": {},
     "output_type": "display_data"
    }
   ],
   "source": [
    "r.vertex_default(size=4, bwidth=1)"
   ]
  },
  {
   "cell_type": "code",
   "execution_count": 90,
   "id": "83712f17-e32b-41fe-a60b-0203c2c2ae92",
   "metadata": {
    "execution": {
     "iopub.execute_input": "2023-09-17T02:52:40.614113Z",
     "iopub.status.busy": "2023-09-17T02:52:40.611703Z",
     "iopub.status.idle": "2023-09-17T02:52:40.638437Z",
     "shell.execute_reply": "2023-09-17T02:52:40.637054Z",
     "shell.execute_reply.started": "2023-09-17T02:52:40.614023Z"
    }
   },
   "outputs": [
    {
     "data": {
      "text/html": [
       "\n",
       "        <div id=\"j8GHXkmqNT2qtUJ5zZn7Uv\"></div>\n",
       "        <script>netpixi.call('j8GHXkmqNT2qtUJ5zZn7Uv', 'RM43E9rTmzyyBCpUqWmsMU', 'changeGraph', 'eyJ0eXBlIjogInNldHRpbmdzIiwgInByb3BzIjogeyJlZGdlIjogeyJ3aWR0aCI6IDF9fX0K');</script>\n",
       "    "
      ],
      "text/plain": [
       "<IPython.core.display.HTML object>"
      ]
     },
     "metadata": {},
     "output_type": "display_data"
    }
   ],
   "source": [
    "r.edge_default(width=1)"
   ]
  },
  {
   "cell_type": "code",
   "execution_count": null,
   "id": "78f70643-9292-453d-bb0d-ea272b285abe",
   "metadata": {},
   "outputs": [],
   "source": []
  }
 ],
 "metadata": {
  "kernelspec": {
   "display_name": "Python 3 (ipykernel)",
   "language": "python",
   "name": "python3"
  },
  "language_info": {
   "codemirror_mode": {
    "name": "ipython",
    "version": 3
   },
   "file_extension": ".py",
   "mimetype": "text/x-python",
   "name": "python",
   "nbconvert_exporter": "python",
   "pygments_lexer": "ipython3",
   "version": "3.11.5"
  }
 },
 "nbformat": 4,
 "nbformat_minor": 5
}
