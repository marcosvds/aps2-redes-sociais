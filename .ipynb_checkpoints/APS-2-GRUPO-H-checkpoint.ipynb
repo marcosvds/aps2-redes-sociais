{
 "cells": [
  {
   "cell_type": "code",
   "execution_count": 2,
   "id": "1fbaaae9-4848-465b-9598-422b0b3e2a63",
   "metadata": {
    "execution": {
     "iopub.execute_input": "2023-09-21T00:04:54.080330Z",
     "iopub.status.busy": "2023-09-21T00:04:54.077188Z",
     "iopub.status.idle": "2023-09-21T00:04:58.319593Z",
     "shell.execute_reply": "2023-09-21T00:04:58.318449Z",
     "shell.execute_reply.started": "2023-09-21T00:04:54.080183Z"
    },
    "tags": []
   },
   "outputs": [
    {
     "data": {
      "text/html": [
       "\n",
       "    <script src=\"/static/.hidden/netpixi.min.js\"></script>\n"
      ],
      "text/plain": [
       "<IPython.core.display.HTML object>"
      ]
     },
     "metadata": {},
     "output_type": "display_data"
    }
   ],
   "source": [
    "import graph_tool_extras as gte\n",
    "import netpixi\n",
    "from graph_tool import draw"
   ]
  },
  {
   "cell_type": "code",
   "execution_count": 3,
   "id": "6dc69aef-4487-4307-9188-04eb9d524059",
   "metadata": {
    "execution": {
     "iopub.execute_input": "2023-09-21T00:04:58.321218Z",
     "iopub.status.busy": "2023-09-21T00:04:58.320824Z",
     "iopub.status.idle": "2023-09-21T00:04:58.325485Z",
     "shell.execute_reply": "2023-09-21T00:04:58.324450Z",
     "shell.execute_reply.started": "2023-09-21T00:04:58.321197Z"
    }
   },
   "outputs": [],
   "source": [
    "PATH = './archive/HR/HR_edges.csv'"
   ]
  },
  {
   "cell_type": "code",
   "execution_count": 4,
   "id": "cbb5ca75-4ce3-498b-8b26-30a66f6cc586",
   "metadata": {
    "execution": {
     "iopub.execute_input": "2023-09-21T00:04:59.551847Z",
     "iopub.status.busy": "2023-09-21T00:04:59.548098Z",
     "iopub.status.idle": "2023-09-21T00:04:59.562527Z",
     "shell.execute_reply": "2023-09-21T00:04:59.559711Z",
     "shell.execute_reply.started": "2023-09-21T00:04:59.551793Z"
    }
   },
   "outputs": [],
   "source": [
    "g = gte.Graph(directed=False)"
   ]
  },
  {
   "cell_type": "code",
   "execution_count": 5,
   "id": "9019597c-62c9-4185-b614-a011e015afd0",
   "metadata": {
    "execution": {
     "iopub.execute_input": "2023-09-21T00:05:00.418499Z",
     "iopub.status.busy": "2023-09-21T00:05:00.417344Z",
     "iopub.status.idle": "2023-09-21T00:05:00.424565Z",
     "shell.execute_reply": "2023-09-21T00:05:00.423083Z",
     "shell.execute_reply.started": "2023-09-21T00:05:00.418468Z"
    }
   },
   "outputs": [],
   "source": [
    "def get_or_add_vertex(g, id):\n",
    "    u = g.vertex_by_id(id)\n",
    "    if u is None:\n",
    "        u = g.add_vertex_by_id(id)\n",
    "    return u"
   ]
  },
  {
   "cell_type": "code",
   "execution_count": 6,
   "id": "eec12ff8-7ee6-48f8-87f1-d3b6bc5777a5",
   "metadata": {
    "execution": {
     "iopub.execute_input": "2023-09-21T00:05:01.661940Z",
     "iopub.status.busy": "2023-09-21T00:05:01.658102Z",
     "iopub.status.idle": "2023-09-21T00:05:01.675283Z",
     "shell.execute_reply": "2023-09-21T00:05:01.674236Z",
     "shell.execute_reply.started": "2023-09-21T00:05:01.661838Z"
    }
   },
   "outputs": [],
   "source": [
    "def get_or_add_edge(g, node1, node2):\n",
    "    e = g.edge_by_ids(node1, node2)\n",
    "    if e is None:\n",
    "        e = g.add_edge_by_ids(node1, node2)\n",
    "    return e"
   ]
  },
  {
   "cell_type": "code",
   "execution_count": 14,
   "id": "7579c957-a980-420a-8292-37efb1e534aa",
   "metadata": {
    "execution": {
     "iopub.execute_input": "2023-09-21T00:09:44.391098Z",
     "iopub.status.busy": "2023-09-21T00:09:44.390105Z",
     "iopub.status.idle": "2023-09-21T00:10:06.082756Z",
     "shell.execute_reply": "2023-09-21T00:10:06.081248Z",
     "shell.execute_reply.started": "2023-09-21T00:09:44.391056Z"
    }
   },
   "outputs": [],
   "source": [
    "with open(PATH) as file:\n",
    "    next(file)\n",
    "    for line in file:\n",
    "        line = line.strip().split(',')\n",
    "        get_or_add_vertex(g,line[0])\n",
    "        get_or_add_vertex(g,line[1])\n",
    "        get_or_add_edge(g,line[0],line[1])"
   ]
  },
  {
   "cell_type": "code",
   "execution_count": 15,
   "id": "98bfdf30-49a8-4c3b-a2a5-5f48eb01e539",
   "metadata": {
    "execution": {
     "iopub.execute_input": "2023-09-21T00:10:06.085223Z",
     "iopub.status.busy": "2023-09-21T00:10:06.084158Z",
     "iopub.status.idle": "2023-09-21T00:10:06.502400Z",
     "shell.execute_reply": "2023-09-21T00:10:06.501298Z",
     "shell.execute_reply.started": "2023-09-21T00:10:06.085193Z"
    }
   },
   "outputs": [],
   "source": [
    "g = gte.clean(g)"
   ]
  },
  {
   "cell_type": "code",
   "execution_count": 16,
   "id": "2a94090d-5e88-4dc5-af35-9e403d361011",
   "metadata": {
    "execution": {
     "iopub.execute_input": "2023-09-21T00:10:06.503834Z",
     "iopub.status.busy": "2023-09-21T00:10:06.503544Z",
     "iopub.status.idle": "2023-09-21T00:13:54.467292Z",
     "shell.execute_reply": "2023-09-21T00:13:54.466013Z",
     "shell.execute_reply.started": "2023-09-21T00:10:06.503802Z"
    }
   },
   "outputs": [],
   "source": [
    "layout = draw.sfdp_layout(g)"
   ]
  },
  {
   "cell_type": "code",
   "execution_count": 17,
   "id": "6d82d08d-ef5d-4a69-8d57-dbf49a90e3d5",
   "metadata": {
    "execution": {
     "iopub.execute_input": "2023-09-21T00:13:54.469120Z",
     "iopub.status.busy": "2023-09-21T00:13:54.468782Z",
     "iopub.status.idle": "2023-09-21T00:13:56.141132Z",
     "shell.execute_reply": "2023-09-21T00:13:56.140112Z",
     "shell.execute_reply.started": "2023-09-21T00:13:54.469093Z"
    }
   },
   "outputs": [],
   "source": [
    "gte.move(g, layout)"
   ]
  },
  {
   "cell_type": "code",
   "execution_count": 18,
   "id": "6a495123-9632-4f0c-b6ac-d803ed2d9081",
   "metadata": {
    "execution": {
     "iopub.execute_input": "2023-09-21T00:13:56.142621Z",
     "iopub.status.busy": "2023-09-21T00:13:56.142340Z",
     "iopub.status.idle": "2023-09-21T00:14:33.549830Z",
     "shell.execute_reply": "2023-09-21T00:14:33.548826Z",
     "shell.execute_reply.started": "2023-09-21T00:13:56.142598Z"
    }
   },
   "outputs": [],
   "source": [
    "gte.save(g, 'HR_edges.net.gz')"
   ]
  },
  {
   "cell_type": "code",
   "execution_count": 19,
   "id": "bc3057b9-2b0e-4aed-8f3b-1dc581ba8d50",
   "metadata": {
    "execution": {
     "iopub.execute_input": "2023-09-21T00:14:33.551493Z",
     "iopub.status.busy": "2023-09-21T00:14:33.551122Z",
     "iopub.status.idle": "2023-09-21T00:14:33.562467Z",
     "shell.execute_reply": "2023-09-21T00:14:33.560432Z",
     "shell.execute_reply.started": "2023-09-21T00:14:33.551466Z"
    },
    "scrolled": true
   },
   "outputs": [
    {
     "data": {
      "text/html": [
       "\n",
       "        <div id=\"8J3uYYfKpQQpoPHU4GhujN\"></div>\n",
       "        <script>netpixi.render('8J3uYYfKpQQpoPHU4GhujN', '/static/__shared__/aps2-redes-sociais/HR_edges.net.gz', 1.7777777777777777, true, true, false, true);</script>\n",
       "    "
      ],
      "text/plain": [
       "<IPython.core.display.HTML object>"
      ]
     },
     "metadata": {},
     "output_type": "display_data"
    }
   ],
   "source": [
    "r = netpixi.render('HR_edges.net.gz',infinite=True)"
   ]
  },
  {
   "cell_type": "code",
   "execution_count": 20,
   "id": "f3a169a4-d9e3-4a3c-a0a2-c4ef76f18529",
   "metadata": {
    "execution": {
     "iopub.execute_input": "2023-09-21T00:14:33.565485Z",
     "iopub.status.busy": "2023-09-21T00:14:33.564490Z",
     "iopub.status.idle": "2023-09-21T00:14:33.579863Z",
     "shell.execute_reply": "2023-09-21T00:14:33.578339Z",
     "shell.execute_reply.started": "2023-09-21T00:14:33.565445Z"
    },
    "scrolled": true
   },
   "outputs": [
    {
     "data": {
      "text/html": [
       "\n",
       "        <div id=\"6FShnKW39FgXQMXMjYBn54\"></div>\n",
       "        <script>netpixi.call('6FShnKW39FgXQMXMjYBn54', '8J3uYYfKpQQpoPHU4GhujN', 'changeGraph', 'eyJ0eXBlIjogInNldHRpbmdzIiwgInByb3BzIjogeyJ2ZXJ0ZXgiOiB7InNpemUiOiA0LCAiYndpZHRoIjogMX19fQo=');</script>\n",
       "    "
      ],
      "text/plain": [
       "<IPython.core.display.HTML object>"
      ]
     },
     "metadata": {},
     "output_type": "display_data"
    }
   ],
   "source": [
    "r.vertex_default(size=4, bwidth=1)"
   ]
  },
  {
   "cell_type": "code",
   "execution_count": 21,
   "id": "83712f17-e32b-41fe-a60b-0203c2c2ae92",
   "metadata": {
    "execution": {
     "iopub.execute_input": "2023-09-21T00:14:33.581777Z",
     "iopub.status.busy": "2023-09-21T00:14:33.581282Z",
     "iopub.status.idle": "2023-09-21T00:14:33.592555Z",
     "shell.execute_reply": "2023-09-21T00:14:33.591348Z",
     "shell.execute_reply.started": "2023-09-21T00:14:33.581740Z"
    }
   },
   "outputs": [
    {
     "data": {
      "text/html": [
       "\n",
       "        <div id=\"die72bfyzZAfXjmV694JYB\"></div>\n",
       "        <script>netpixi.call('die72bfyzZAfXjmV694JYB', '8J3uYYfKpQQpoPHU4GhujN', 'changeGraph', 'eyJ0eXBlIjogInNldHRpbmdzIiwgInByb3BzIjogeyJlZGdlIjogeyJ3aWR0aCI6IDF9fX0K');</script>\n",
       "    "
      ],
      "text/plain": [
       "<IPython.core.display.HTML object>"
      ]
     },
     "metadata": {},
     "output_type": "display_data"
    }
   ],
   "source": [
    "r.edge_default(width=1)"
   ]
  }
 ],
 "metadata": {
  "kernelspec": {
   "display_name": "Python 3 (ipykernel)",
   "language": "python",
   "name": "python3"
  },
  "language_info": {
   "codemirror_mode": {
    "name": "ipython",
    "version": 3
   },
   "file_extension": ".py",
   "mimetype": "text/x-python",
   "name": "python",
   "nbconvert_exporter": "python",
   "pygments_lexer": "ipython3",
   "version": "3.11.5"
  }
 },
 "nbformat": 4,
 "nbformat_minor": 5
}
