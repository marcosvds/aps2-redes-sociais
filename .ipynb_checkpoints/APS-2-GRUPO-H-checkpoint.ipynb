{
 "cells": [
  {
   "cell_type": "markdown",
   "id": "bfa5aa97-c10e-46d7-832f-9f44c311a1d4",
   "metadata": {
    "execution": {
     "iopub.execute_input": "2023-08-27T20:43:03.557050Z",
     "iopub.status.busy": "2023-08-27T20:43:03.549426Z",
     "iopub.status.idle": "2023-08-27T20:43:03.612417Z",
     "shell.execute_reply": "2023-08-27T20:43:03.606436Z",
     "shell.execute_reply.started": "2023-08-27T20:43:03.556679Z"
    }
   },
   "source": [
    "# Atividade Prática Supervisionada 2 - Grupo H"
   ]
  },
  {
   "cell_type": "markdown",
   "id": "d2422be5-6c7a-426b-b3e2-d29c41a4a115",
   "metadata": {},
   "source": [
    "## Importação das bibliotecas"
   ]
  },
  {
   "cell_type": "code",
   "execution_count": 1,
   "id": "1fbaaae9-4848-465b-9598-422b0b3e2a63",
   "metadata": {
    "execution": {
     "iopub.execute_input": "2023-09-17T19:32:35.472478Z",
     "iopub.status.busy": "2023-09-17T19:32:35.470244Z",
     "iopub.status.idle": "2023-09-17T19:32:36.602345Z",
     "shell.execute_reply": "2023-09-17T19:32:36.601900Z",
     "shell.execute_reply.started": "2023-09-17T19:32:35.472359Z"
    },
    "tags": []
   },
   "outputs": [
    {
     "data": {
      "text/html": [
       "\n",
       "    <script src=\"/static/.hidden/netpixi.min.js\"></script>\n"
      ],
      "text/plain": [
       "<IPython.core.display.HTML object>"
      ]
     },
     "metadata": {},
     "output_type": "display_data"
    }
   ],
   "source": [
    "import graph_tool_extras as gte\n",
    "import netpixi\n",
    "from graph_tool import draw"
   ]
  },
  {
   "cell_type": "markdown",
   "id": "25ccac9d-d937-4be0-bdd7-bc520d62a88a",
   "metadata": {},
   "source": [
    "## Leitura do arquivo"
   ]
  },
  {
   "cell_type": "code",
   "execution_count": 2,
   "id": "6dc69aef-4487-4307-9188-04eb9d524059",
   "metadata": {
    "execution": {
     "iopub.execute_input": "2023-09-17T19:32:36.603829Z",
     "iopub.status.busy": "2023-09-17T19:32:36.603244Z",
     "iopub.status.idle": "2023-09-17T19:32:36.606198Z",
     "shell.execute_reply": "2023-09-17T19:32:36.605764Z",
     "shell.execute_reply.started": "2023-09-17T19:32:36.603804Z"
    }
   },
   "outputs": [],
   "source": [
    "PATH = './archive/HR/HR_edges.csv'"
   ]
  },
  {
   "cell_type": "markdown",
   "id": "e5b2d028-1efe-4501-883e-d4f23c9c2035",
   "metadata": {},
   "source": [
    "## Construção da Rede Social"
   ]
  },
  {
   "cell_type": "code",
   "execution_count": 3,
   "id": "cbb5ca75-4ce3-498b-8b26-30a66f6cc586",
   "metadata": {
    "execution": {
     "iopub.execute_input": "2023-09-17T19:32:37.833819Z",
     "iopub.status.busy": "2023-09-17T19:32:37.833148Z",
     "iopub.status.idle": "2023-09-17T19:32:37.839041Z",
     "shell.execute_reply": "2023-09-17T19:32:37.838009Z",
     "shell.execute_reply.started": "2023-09-17T19:32:37.833770Z"
    }
   },
   "outputs": [],
   "source": [
    "g = gte.Graph(directed=False)"
   ]
  },
  {
   "cell_type": "code",
   "execution_count": 4,
   "id": "9019597c-62c9-4185-b614-a011e015afd0",
   "metadata": {
    "execution": {
     "iopub.execute_input": "2023-09-17T19:32:38.517687Z",
     "iopub.status.busy": "2023-09-17T19:32:38.516943Z",
     "iopub.status.idle": "2023-09-17T19:32:38.523055Z",
     "shell.execute_reply": "2023-09-17T19:32:38.522064Z",
     "shell.execute_reply.started": "2023-09-17T19:32:38.517657Z"
    }
   },
   "outputs": [],
   "source": [
    "def get_or_add_vertex(g, id):\n",
    "    u = g.vertex_by_id(id)\n",
    "    if u is None:\n",
    "        u = g.add_vertex_by_id(id)\n",
    "    return u"
   ]
  },
  {
   "cell_type": "code",
   "execution_count": 5,
   "id": "eec12ff8-7ee6-48f8-87f1-d3b6bc5777a5",
   "metadata": {
    "execution": {
     "iopub.execute_input": "2023-09-17T19:32:39.016334Z",
     "iopub.status.busy": "2023-09-17T19:32:39.014965Z",
     "iopub.status.idle": "2023-09-17T19:32:39.022013Z",
     "shell.execute_reply": "2023-09-17T19:32:39.020897Z",
     "shell.execute_reply.started": "2023-09-17T19:32:39.016228Z"
    }
   },
   "outputs": [],
   "source": [
    "def get_or_add_edge(g, node1, node2):\n",
    "    e = g.edge_by_ids(node1, node2)\n",
    "    if e is None:\n",
    "        e = g.add_edge_by_ids(node1, node2)\n",
    "    return e"
   ]
  },
  {
   "cell_type": "code",
   "execution_count": 7,
   "id": "7579c957-a980-420a-8292-37efb1e534aa",
   "metadata": {
    "execution": {
     "iopub.execute_input": "2023-09-17T19:32:49.344240Z",
     "iopub.status.busy": "2023-09-17T19:32:49.340978Z",
     "iopub.status.idle": "2023-09-17T19:32:55.745056Z",
     "shell.execute_reply": "2023-09-17T19:32:55.743846Z",
     "shell.execute_reply.started": "2023-09-17T19:32:49.344153Z"
    }
   },
   "outputs": [],
   "source": [
    "with open(PATH) as file:\n",
    "    next(file)\n",
    "    for line in file:\n",
    "        line = line.strip().split(',')\n",
    "        #Cria ou pega os vértices\n",
    "        get_or_add_vertex(g,line[0])\n",
    "        get_or_add_vertex(g,line[1])\n",
    "        #Cria ou pega as areatas\n",
    "        get_or_add_edge(g,line[0],line[1])"
   ]
  },
  {
   "cell_type": "markdown",
   "id": "ea784524-df71-40fe-9e15-76fe20c1a3e5",
   "metadata": {},
   "source": [
    "## Visualização da Rede Social em larga escala"
   ]
  },
  {
   "cell_type": "code",
   "execution_count": 8,
   "id": "98bfdf30-49a8-4c3b-a2a5-5f48eb01e539",
   "metadata": {
    "execution": {
     "iopub.execute_input": "2023-09-17T19:33:06.751952Z",
     "iopub.status.busy": "2023-09-17T19:33:06.751380Z",
     "iopub.status.idle": "2023-09-17T19:33:06.978542Z",
     "shell.execute_reply": "2023-09-17T19:33:06.977997Z",
     "shell.execute_reply.started": "2023-09-17T19:33:06.751913Z"
    }
   },
   "outputs": [],
   "source": [
    "g = gte.clean(g)"
   ]
  },
  {
   "cell_type": "code",
   "execution_count": 9,
   "id": "2a94090d-5e88-4dc5-af35-9e403d361011",
   "metadata": {
    "execution": {
     "iopub.execute_input": "2023-09-17T19:33:07.526188Z",
     "iopub.status.busy": "2023-09-17T19:33:07.525078Z",
     "iopub.status.idle": "2023-09-17T19:34:29.632594Z",
     "shell.execute_reply": "2023-09-17T19:34:29.631069Z",
     "shell.execute_reply.started": "2023-09-17T19:33:07.526151Z"
    }
   },
   "outputs": [],
   "source": [
    "layout = draw.sfdp_layout(g)"
   ]
  },
  {
   "cell_type": "code",
   "execution_count": null,
   "id": "6d82d08d-ef5d-4a69-8d57-dbf49a90e3d5",
   "metadata": {},
   "outputs": [],
   "source": [
    "gte.move(g, layout)"
   ]
  },
  {
   "cell_type": "code",
   "execution_count": null,
   "id": "6a495123-9632-4f0c-b6ac-d803ed2d9081",
   "metadata": {},
   "outputs": [],
   "source": [
    "gte.save(g, 'HR_edges.net.gz')"
   ]
  },
  {
   "cell_type": "code",
   "execution_count": 14,
   "id": "bc3057b9-2b0e-4aed-8f3b-1dc581ba8d50",
   "metadata": {
    "execution": {
     "iopub.execute_input": "2023-09-17T19:37:18.744220Z",
     "iopub.status.busy": "2023-09-17T19:37:18.743482Z",
     "iopub.status.idle": "2023-09-17T19:37:18.768210Z",
     "shell.execute_reply": "2023-09-17T19:37:18.766497Z",
     "shell.execute_reply.started": "2023-09-17T19:37:18.744148Z"
    },
    "scrolled": true
   },
   "outputs": [
    {
     "data": {
      "text/html": [
       "\n",
       "        <div id=\"Zhf2Xvg3LG5WA8kNvjUvQC\"></div>\n",
       "        <script>netpixi.render('Zhf2Xvg3LG5WA8kNvjUvQC', '/static/__shared__/aps2-redes-sociais/HR_edges.net.gz', 1.7777777777777777, true, true, false, true);</script>\n",
       "    "
      ],
      "text/plain": [
       "<IPython.core.display.HTML object>"
      ]
     },
     "metadata": {},
     "output_type": "display_data"
    }
   ],
   "source": [
    "r = netpixi.render('HR_edges.net.gz',infinite=True)"
   ]
  },
  {
   "cell_type": "code",
   "execution_count": 15,
   "id": "f3a169a4-d9e3-4a3c-a0a2-c4ef76f18529",
   "metadata": {
    "execution": {
     "iopub.execute_input": "2023-09-17T19:37:24.977376Z",
     "iopub.status.busy": "2023-09-17T19:37:24.971107Z",
     "iopub.status.idle": "2023-09-17T19:37:25.005715Z",
     "shell.execute_reply": "2023-09-17T19:37:25.004871Z",
     "shell.execute_reply.started": "2023-09-17T19:37:24.977203Z"
    },
    "scrolled": true
   },
   "outputs": [
    {
     "data": {
      "text/html": [
       "\n",
       "        <div id=\"XP6zpqkWMpwB7fma7Kv84k\"></div>\n",
       "        <script>netpixi.call('XP6zpqkWMpwB7fma7Kv84k', 'Zhf2Xvg3LG5WA8kNvjUvQC', 'changeGraph', 'eyJ0eXBlIjogInNldHRpbmdzIiwgInByb3BzIjogeyJ2ZXJ0ZXgiOiB7InNpemUiOiA0LCAiYndpZHRoIjogMX19fQo=');</script>\n",
       "    "
      ],
      "text/plain": [
       "<IPython.core.display.HTML object>"
      ]
     },
     "metadata": {},
     "output_type": "display_data"
    }
   ],
   "source": [
    "r.vertex_default(size=4, bwidth=1)"
   ]
  },
  {
   "cell_type": "code",
   "execution_count": 16,
   "id": "83712f17-e32b-41fe-a60b-0203c2c2ae92",
   "metadata": {
    "execution": {
     "iopub.execute_input": "2023-09-17T19:38:24.868366Z",
     "iopub.status.busy": "2023-09-17T19:38:24.863940Z",
     "iopub.status.idle": "2023-09-17T19:38:24.888891Z",
     "shell.execute_reply": "2023-09-17T19:38:24.887543Z",
     "shell.execute_reply.started": "2023-09-17T19:38:24.868197Z"
    }
   },
   "outputs": [
    {
     "data": {
      "text/html": [
       "\n",
       "        <div id=\"CAiqAyux6WnaoUt9uEdsmx\"></div>\n",
       "        <script>netpixi.call('CAiqAyux6WnaoUt9uEdsmx', 'Zhf2Xvg3LG5WA8kNvjUvQC', 'changeGraph', 'eyJ0eXBlIjogInNldHRpbmdzIiwgInByb3BzIjogeyJlZGdlIjogeyJ3aWR0aCI6IDF9fX0K');</script>\n",
       "    "
      ],
      "text/plain": [
       "<IPython.core.display.HTML object>"
      ]
     },
     "metadata": {},
     "output_type": "display_data"
    }
   ],
   "source": [
    "r.edge_default(width=1)"
   ]
  },
  {
   "cell_type": "code",
   "execution_count": null,
   "id": "b81169d9-158a-4325-9675-ec05d25a7ba4",
   "metadata": {},
   "outputs": [],
   "source": []
  }
 ],
 "metadata": {
  "kernelspec": {
   "display_name": "Python 3 (ipykernel)",
   "language": "python",
   "name": "python3"
  },
  "language_info": {
   "codemirror_mode": {
    "name": "ipython",
    "version": 3
   },
   "file_extension": ".py",
   "mimetype": "text/x-python",
   "name": "python",
   "nbconvert_exporter": "python",
   "pygments_lexer": "ipython3",
   "version": "3.11.5"
  }
 },
 "nbformat": 4,
 "nbformat_minor": 5
}
